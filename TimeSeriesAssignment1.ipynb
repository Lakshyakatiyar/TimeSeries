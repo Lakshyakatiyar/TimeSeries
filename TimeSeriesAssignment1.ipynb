{
 "cells": [
  {
   "cell_type": "markdown",
   "id": "958a503d-9c90-4d02-b162-bdbd3336a718",
   "metadata": {},
   "source": [
    "1.Time series definition and common applications:\n",
    "A time series is a sequence of data points collected or recorded at successive, equally spaced time intervals. Common applications of time series analysis include:\n",
    "\n",
    "Financial forecasting\n",
    "Stock market analysis\n",
    "Demand forecasting\n",
    "Weather forecasting\n",
    "Economic trend analysis\n",
    "Health monitoring\n",
    "Network traffic analysis\n"
   ]
  },
  {
   "cell_type": "markdown",
   "id": "9430b71a-2b0e-412b-81b5-6dc262bccf8c",
   "metadata": {},
   "source": [
    "2.Common time series patterns and identification:\n",
    "Common time series patterns include trend, seasonality, cyclicality, and irregularity. These patterns can be identified through visual inspection of plots, such as time series plots, decomposition plots, and autocorrelation plots."
   ]
  },
  {
   "cell_type": "markdown",
   "id": "9eea8226-302c-4bad-bc3e-a42e748be24b",
   "metadata": {},
   "source": [
    "3.Preprocessing of time series data:\n",
    "Time series data can be preprocessed by handling missing values, removing outliers, detrending, deseasonalizing, and normalizing the data to make it suitable for analysis techniques like forecasting or modeling."
   ]
  },
  {
   "cell_type": "markdown",
   "id": "6ae31753-cfd0-43fb-9beb-c57bba44536d",
   "metadata": {},
   "source": [
    "4.Time series forecasting in business decision-making:\n",
    "Time series forecasting helps businesses anticipate future trends and make informed decisions about resource allocation, inventory management, production planning, and budgeting. Common challenges include handling noisy data, incorporating external factors, and dealing with unexpected events."
   ]
  },
  {
   "cell_type": "markdown",
   "id": "05de3b18-5921-4f3a-9a66-8472b3958c56",
   "metadata": {},
   "source": [
    "5.ARIMA modeling for time series forecasting:\n",
    "ARIMA (AutoRegressive Integrated Moving Average) is a popular method for time series forecasting. It models the relationship between a variable and its past values, differences, and lagged forecast errors. ARIMA models can capture both trend and seasonality in data."
   ]
  },
  {
   "cell_type": "markdown",
   "id": "112a20ac-00b6-4402-b91e-6bc6d5209560",
   "metadata": {},
   "source": [
    "6.ACF and PACF plots in identifying ARIMA model orders:\n",
    "ACF and PACF plots help identify the orders of the autoregressive (AR) and moving average (MA) components in ARIMA models. The ACF plot shows the autocorrelation at different lags, while the PACF plot shows the partial autocorrelation after removing the effects of shorter lags."
   ]
  },
  {
   "cell_type": "markdown",
   "id": "040e03df-239d-4f99-8931-b5150bd4de43",
   "metadata": {},
   "source": [
    "7.Assumptions of ARIMA models and testing:\n",
    "The main assumptions of ARIMA models include stationarity, linearity, and independence of residuals. These assumptions can be tested using statistical tests, visual inspection of residual plots, and diagnostic checks."
   ]
  },
  {
   "cell_type": "markdown",
   "id": "1f7c7a29-6c6e-48f9-8a48-3bac9f1a8065",
   "metadata": {},
   "source": [
    "8.Choice of time series model for sales forecasting:\n",
    "For monthly sales data with potential trend and seasonality, I would recommend using an SARIMA (Seasonal ARIMA) model. SARIMA can capture both the seasonal and non-seasonal components of the data, making it suitable for forecasting sales with monthly patterns."
   ]
  },
  {
   "cell_type": "markdown",
   "id": "42db0ed1-a600-41f1-ba99-c6092117581a",
   "metadata": {},
   "source": [
    "9.Limitations of time series analysis:\n",
    "Limitations include the inability to capture sudden changes or anomalies, reliance on historical patterns, and sensitivity to outliers. For example, in financial markets, unexpected events like economic recessions or geopolitical crises may challenge the accuracy of time series forecasts."
   ]
  },
  {
   "cell_type": "markdown",
   "id": "f09fcda2-6379-42c2-bb73-ab9e837aeb89",
   "metadata": {},
   "source": [
    "10.Difference between stationary and non-stationary time series:\n",
    "\n",
    "Stationary time series: The statistical properties of a stationary time series, such as mean, variance, and autocorrelation, do not change over time.\n",
    "Non-stationary time series: The statistical properties of a non-stationary time series change over time, typically exhibiting trends or seasonality.\n",
    "The stationarity of a time series affects the choice of forecasting model because traditional forecasting techniques like ARIMA assume stationarity. Non-stationary series may require transformations or differencing to achieve stationarity before applying such models.\n",
    "\n",
    "\n",
    "\n",
    "\n"
   ]
  },
  {
   "cell_type": "code",
   "execution_count": null,
   "id": "a6a0e8af-3d73-4469-8370-d50a978f2feb",
   "metadata": {},
   "outputs": [],
   "source": []
  }
 ],
 "metadata": {
  "kernelspec": {
   "display_name": "Python 3 (ipykernel)",
   "language": "python",
   "name": "python3"
  },
  "language_info": {
   "codemirror_mode": {
    "name": "ipython",
    "version": 3
   },
   "file_extension": ".py",
   "mimetype": "text/x-python",
   "name": "python",
   "nbconvert_exporter": "python",
   "pygments_lexer": "ipython3",
   "version": "3.10.8"
  }
 },
 "nbformat": 4,
 "nbformat_minor": 5
}
